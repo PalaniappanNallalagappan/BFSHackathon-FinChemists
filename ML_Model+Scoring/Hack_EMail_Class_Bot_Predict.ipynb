{
 "cells": [
  {
   "cell_type": "code",
   "execution_count": 20,
   "metadata": {},
   "outputs": [],
   "source": [
    "import numpy as np\n",
    "import pandas as pd\n",
    "import string\n",
    "import nltk\n",
    "import os\n",
    "\n",
    "from nltk.corpus import stopwords\n",
    "from sklearn.externals import joblib"
   ]
  },
  {
   "cell_type": "code",
   "execution_count": 2,
   "metadata": {},
   "outputs": [],
   "source": [
    "def text_process(mess):\n",
    "    \"\"\"\n",
    "    Takes in a string of text, then performs the following:\n",
    "    1. Remove all punctuation\n",
    "    2. Remove all stopwords\n",
    "    3. Returns a list of the cleaned text\n",
    "    \"\"\"\n",
    "    # Check characters to see if they are in punctuation\n",
    "    nopunc = [char for char in mess if char not in string.punctuation]\n",
    "\n",
    "    # Join the characters again to form the string.\n",
    "    nopunc = ''.join(nopunc)\n",
    "    \n",
    "    # Now just remove any stopwords\n",
    "    return [word for word in nopunc.split() if word.lower() not in stopwords.words('english')]"
   ]
  },
  {
   "cell_type": "code",
   "execution_count": 3,
   "metadata": {},
   "outputs": [],
   "source": [
    "fields = ['Text Message']\n",
    "messages = pd.read_csv('To_predict/Emails.csv', skipinitialspace=True, usecols=fields)"
   ]
  },
  {
   "cell_type": "code",
   "execution_count": 4,
   "metadata": {},
   "outputs": [],
   "source": [
    "pd_in = pd.DataFrame(messages['Text Message'])"
   ]
  },
  {
   "cell_type": "code",
   "execution_count": 5,
   "metadata": {},
   "outputs": [
    {
     "data": {
      "text/html": [
       "<div>\n",
       "<style scoped>\n",
       "    .dataframe tbody tr th:only-of-type {\n",
       "        vertical-align: middle;\n",
       "    }\n",
       "\n",
       "    .dataframe tbody tr th {\n",
       "        vertical-align: top;\n",
       "    }\n",
       "\n",
       "    .dataframe thead th {\n",
       "        text-align: right;\n",
       "    }\n",
       "</style>\n",
       "<table border=\"1\" class=\"dataframe\">\n",
       "  <thead>\n",
       "    <tr style=\"text-align: right;\">\n",
       "      <th></th>\n",
       "      <th>Text Message</th>\n",
       "    </tr>\n",
       "  </thead>\n",
       "  <tbody>\n",
       "    <tr>\n",
       "      <th>0</th>\n",
       "      <td>Dear Team,\\n\\nPl update the new email address ...</td>\n",
       "    </tr>\n",
       "    <tr>\n",
       "      <th>1</th>\n",
       "      <td>Dear Team,\\n\\nPl update only the supplementary...</td>\n",
       "    </tr>\n",
       "    <tr>\n",
       "      <th>2</th>\n",
       "      <td>Team,\\n\\nsupplementary card to be updated for ...</td>\n",
       "    </tr>\n",
       "    <tr>\n",
       "      <th>3</th>\n",
       "      <td>Team,\\n\\nThis request is long due, and not pro...</td>\n",
       "    </tr>\n",
       "    <tr>\n",
       "      <th>4</th>\n",
       "      <td>Hello Team,\\n\\nThe subject request is not proc...</td>\n",
       "    </tr>\n",
       "    <tr>\n",
       "      <th>5</th>\n",
       "      <td>Dear Team,\\n\\nThe email ID which is supposed t...</td>\n",
       "    </tr>\n",
       "    <tr>\n",
       "      <th>6</th>\n",
       "      <td>Hi Team,\\n\\nThe customer has requested to upda...</td>\n",
       "    </tr>\n",
       "    <tr>\n",
       "      <th>7</th>\n",
       "      <td>Dear Team,\\n\\nThe customer has requested to up...</td>\n",
       "    </tr>\n",
       "    <tr>\n",
       "      <th>8</th>\n",
       "      <td>Team,\\n\\nThe customer has requested for updati...</td>\n",
       "    </tr>\n",
       "    <tr>\n",
       "      <th>9</th>\n",
       "      <td>Team,\\n\\nThis customer had sent his request fe...</td>\n",
       "    </tr>\n",
       "  </tbody>\n",
       "</table>\n",
       "</div>"
      ],
      "text/plain": [
       "                                        Text Message\n",
       "0  Dear Team,\\n\\nPl update the new email address ...\n",
       "1  Dear Team,\\n\\nPl update only the supplementary...\n",
       "2  Team,\\n\\nsupplementary card to be updated for ...\n",
       "3  Team,\\n\\nThis request is long due, and not pro...\n",
       "4  Hello Team,\\n\\nThe subject request is not proc...\n",
       "5  Dear Team,\\n\\nThe email ID which is supposed t...\n",
       "6  Hi Team,\\n\\nThe customer has requested to upda...\n",
       "7  Dear Team,\\n\\nThe customer has requested to up...\n",
       "8  Team,\\n\\nThe customer has requested for updati...\n",
       "9  Team,\\n\\nThis customer had sent his request fe..."
      ]
     },
     "execution_count": 5,
     "metadata": {},
     "output_type": "execute_result"
    }
   ],
   "source": [
    "pd_in"
   ]
  },
  {
   "cell_type": "code",
   "execution_count": 6,
   "metadata": {},
   "outputs": [],
   "source": [
    "# Load the model from the file \n",
    "pipeline_from_joblib = joblib.load('EMail_Class_Model.pkl')  "
   ]
  },
  {
   "cell_type": "code",
   "execution_count": 7,
   "metadata": {},
   "outputs": [
    {
     "data": {
      "text/plain": [
       "array(['Personal_Info_Update', 'Supplementary_Card_Update',\n",
       "       'Supplementary_Card_Update', 'FollowUp_Personal_Info_Update',\n",
       "       'FollowUp_Personal_Info_Update', 'Complaints_Personal_Info_Update',\n",
       "       'Complaints_Personal_Info_Update', 'Urgent_Personal_Info_Update',\n",
       "       'Urgent_Personal_Info_Update',\n",
       "       'Social_Media_Complaints_Personal_Info_Update'], dtype='<U44')"
      ]
     },
     "execution_count": 7,
     "metadata": {},
     "output_type": "execute_result"
    }
   ],
   "source": [
    "# Use the loaded model to make predictions \n",
    "output = pipeline_from_joblib.predict(messages['Text Message']) \n",
    "output\n",
    "#for i in output:\n",
    "#    print (i)"
   ]
  },
  {
   "cell_type": "code",
   "execution_count": 8,
   "metadata": {},
   "outputs": [],
   "source": [
    "pd_out = pd.DataFrame(data=output)"
   ]
  },
  {
   "cell_type": "code",
   "execution_count": 9,
   "metadata": {},
   "outputs": [
    {
     "data": {
      "text/plain": [
       "(                                        Text Message\n",
       " 0  Dear Team,\\n\\nPl update the new email address ...\n",
       " 1  Dear Team,\\n\\nPl update only the supplementary...\n",
       " 2  Team,\\n\\nsupplementary card to be updated for ...\n",
       " 3  Team,\\n\\nThis request is long due, and not pro...\n",
       " 4  Hello Team,\\n\\nThe subject request is not proc...\n",
       " 5  Dear Team,\\n\\nThe email ID which is supposed t...\n",
       " 6  Hi Team,\\n\\nThe customer has requested to upda...\n",
       " 7  Dear Team,\\n\\nThe customer has requested to up...\n",
       " 8  Team,\\n\\nThe customer has requested for updati...\n",
       " 9  Team,\\n\\nThis customer had sent his request fe...,\n",
       "                                               0\n",
       " 0                          Personal_Info_Update\n",
       " 1                     Supplementary_Card_Update\n",
       " 2                     Supplementary_Card_Update\n",
       " 3                 FollowUp_Personal_Info_Update\n",
       " 4                 FollowUp_Personal_Info_Update\n",
       " 5               Complaints_Personal_Info_Update\n",
       " 6               Complaints_Personal_Info_Update\n",
       " 7                   Urgent_Personal_Info_Update\n",
       " 8                   Urgent_Personal_Info_Update\n",
       " 9  Social_Media_Complaints_Personal_Info_Update)"
      ]
     },
     "execution_count": 9,
     "metadata": {},
     "output_type": "execute_result"
    }
   ],
   "source": [
    "pd_in,pd_out"
   ]
  },
  {
   "cell_type": "code",
   "execution_count": 10,
   "metadata": {},
   "outputs": [],
   "source": [
    "cons_output = pd.concat([pd_in,pd_out],axis=1)"
   ]
  },
  {
   "cell_type": "code",
   "execution_count": 11,
   "metadata": {},
   "outputs": [
    {
     "data": {
      "text/html": [
       "<div>\n",
       "<style scoped>\n",
       "    .dataframe tbody tr th:only-of-type {\n",
       "        vertical-align: middle;\n",
       "    }\n",
       "\n",
       "    .dataframe tbody tr th {\n",
       "        vertical-align: top;\n",
       "    }\n",
       "\n",
       "    .dataframe thead th {\n",
       "        text-align: right;\n",
       "    }\n",
       "</style>\n",
       "<table border=\"1\" class=\"dataframe\">\n",
       "  <thead>\n",
       "    <tr style=\"text-align: right;\">\n",
       "      <th></th>\n",
       "      <th>Text Message</th>\n",
       "      <th>0</th>\n",
       "    </tr>\n",
       "  </thead>\n",
       "  <tbody>\n",
       "    <tr>\n",
       "      <th>0</th>\n",
       "      <td>Dear Team,\\n\\nPl update the new email address ...</td>\n",
       "      <td>Personal_Info_Update</td>\n",
       "    </tr>\n",
       "    <tr>\n",
       "      <th>1</th>\n",
       "      <td>Dear Team,\\n\\nPl update only the supplementary...</td>\n",
       "      <td>Supplementary_Card_Update</td>\n",
       "    </tr>\n",
       "    <tr>\n",
       "      <th>2</th>\n",
       "      <td>Team,\\n\\nsupplementary card to be updated for ...</td>\n",
       "      <td>Supplementary_Card_Update</td>\n",
       "    </tr>\n",
       "    <tr>\n",
       "      <th>3</th>\n",
       "      <td>Team,\\n\\nThis request is long due, and not pro...</td>\n",
       "      <td>FollowUp_Personal_Info_Update</td>\n",
       "    </tr>\n",
       "    <tr>\n",
       "      <th>4</th>\n",
       "      <td>Hello Team,\\n\\nThe subject request is not proc...</td>\n",
       "      <td>FollowUp_Personal_Info_Update</td>\n",
       "    </tr>\n",
       "    <tr>\n",
       "      <th>5</th>\n",
       "      <td>Dear Team,\\n\\nThe email ID which is supposed t...</td>\n",
       "      <td>Complaints_Personal_Info_Update</td>\n",
       "    </tr>\n",
       "    <tr>\n",
       "      <th>6</th>\n",
       "      <td>Hi Team,\\n\\nThe customer has requested to upda...</td>\n",
       "      <td>Complaints_Personal_Info_Update</td>\n",
       "    </tr>\n",
       "    <tr>\n",
       "      <th>7</th>\n",
       "      <td>Dear Team,\\n\\nThe customer has requested to up...</td>\n",
       "      <td>Urgent_Personal_Info_Update</td>\n",
       "    </tr>\n",
       "    <tr>\n",
       "      <th>8</th>\n",
       "      <td>Team,\\n\\nThe customer has requested for updati...</td>\n",
       "      <td>Urgent_Personal_Info_Update</td>\n",
       "    </tr>\n",
       "    <tr>\n",
       "      <th>9</th>\n",
       "      <td>Team,\\n\\nThis customer had sent his request fe...</td>\n",
       "      <td>Social_Media_Complaints_Personal_Info_Update</td>\n",
       "    </tr>\n",
       "  </tbody>\n",
       "</table>\n",
       "</div>"
      ],
      "text/plain": [
       "                                        Text Message  \\\n",
       "0  Dear Team,\\n\\nPl update the new email address ...   \n",
       "1  Dear Team,\\n\\nPl update only the supplementary...   \n",
       "2  Team,\\n\\nsupplementary card to be updated for ...   \n",
       "3  Team,\\n\\nThis request is long due, and not pro...   \n",
       "4  Hello Team,\\n\\nThe subject request is not proc...   \n",
       "5  Dear Team,\\n\\nThe email ID which is supposed t...   \n",
       "6  Hi Team,\\n\\nThe customer has requested to upda...   \n",
       "7  Dear Team,\\n\\nThe customer has requested to up...   \n",
       "8  Team,\\n\\nThe customer has requested for updati...   \n",
       "9  Team,\\n\\nThis customer had sent his request fe...   \n",
       "\n",
       "                                              0  \n",
       "0                          Personal_Info_Update  \n",
       "1                     Supplementary_Card_Update  \n",
       "2                     Supplementary_Card_Update  \n",
       "3                 FollowUp_Personal_Info_Update  \n",
       "4                 FollowUp_Personal_Info_Update  \n",
       "5               Complaints_Personal_Info_Update  \n",
       "6               Complaints_Personal_Info_Update  \n",
       "7                   Urgent_Personal_Info_Update  \n",
       "8                   Urgent_Personal_Info_Update  \n",
       "9  Social_Media_Complaints_Personal_Info_Update  "
      ]
     },
     "execution_count": 11,
     "metadata": {},
     "output_type": "execute_result"
    }
   ],
   "source": [
    "cons_output"
   ]
  },
  {
   "cell_type": "code",
   "execution_count": 12,
   "metadata": {},
   "outputs": [],
   "source": [
    "#cons_output.columns = cons_output.iloc[0]\n",
    "#cons_output = cons_output[1:]"
   ]
  },
  {
   "cell_type": "code",
   "execution_count": 13,
   "metadata": {},
   "outputs": [],
   "source": [
    "cons_output.to_csv('To_predict/Cons_Pred_Output.csv', index= True, header= False)"
   ]
  },
  {
   "cell_type": "code",
   "execution_count": null,
   "metadata": {},
   "outputs": [],
   "source": [
    "os.system(\"python C:/Python37/Project/Project/app/services/ImporttoMySQL.py\")"
   ]
  },
  {
   "cell_type": "code",
   "execution_count": null,
   "metadata": {},
   "outputs": [],
   "source": []
  }
 ],
 "metadata": {
  "kernelspec": {
   "display_name": "Python 3",
   "language": "python",
   "name": "python3"
  },
  "language_info": {
   "codemirror_mode": {
    "name": "ipython",
    "version": 3
   },
   "file_extension": ".py",
   "mimetype": "text/x-python",
   "name": "python",
   "nbconvert_exporter": "python",
   "pygments_lexer": "ipython3",
   "version": "3.7.0"
  }
 },
 "nbformat": 4,
 "nbformat_minor": 2
}
